{
  "metadata": {
    "kernelspec": {
      "name": "python",
      "display_name": "Python (Pyodide)",
      "language": "python"
    },
    "language_info": {
      "codemirror_mode": {
        "name": "python",
        "version": 3
      },
      "file_extension": ".py",
      "mimetype": "text/x-python",
      "name": "python",
      "nbconvert_exporter": "python",
      "pygments_lexer": "ipython3",
      "version": "3.8"
    }
  },
  "nbformat_minor": 5,
  "nbformat": 4,
  "cells": [
    {
      "id": "b4d79e19-0f88-456b-847c-a42a2dc9e3cc",
      "cell_type": "markdown",
      "source": "# Data Science Tools and Ecosystem",
      "metadata": {}
    },
    {
      "id": "8cc58110-fbab-4e4f-acbc-3bd63eb9ce81",
      "cell_type": "markdown",
      "source": "In this notebook, Data Science Tools and Ecosystem are summarized.",
      "metadata": {}
    },
    {
      "id": "fd50cc9a-b7e8-4b97-92d9-cc8dbae30b12",
      "cell_type": "markdown",
      "source": "**Objectives:**\n-  List popular languages for Data Science\n-  List commonly used libraries in data science\n-  List open source tools used in data science",
      "metadata": {}
    },
    {
      "id": "5df20374-4b94-4f5f-b379-b77fcfaa2344",
      "cell_type": "markdown",
      "source": "##### Some of the popular languages that Data Scientists use are:\n1. Python\n2. R\n3. C\n4. C++",
      "metadata": {}
    },
    {
      "id": "d940758e-0e8a-41d1-914b-fc8d81446411",
      "cell_type": "markdown",
      "source": "##### Some of the commonly used libraries used by Data Scientists include:\n* Numpy\n* Pandas\n* TensorFlow",
      "metadata": {}
    },
    {
      "id": "1ed6e169-43eb-47ac-9a63-dfaa22732ba4",
      "cell_type": "markdown",
      "source": "|Data Science Tools|\n|---------|\n|Jupyter Notebook|\n|Rstudio|\n|Visual Studio Code|",
      "metadata": {}
    },
    {
      "id": "c26a92b3-85e0-4983-b55b-39a111447002",
      "cell_type": "markdown",
      "source": "### Below are a few examples of evaluating arithmetic expressions in Python",
      "metadata": {}
    },
    {
      "id": "1337ef74-7c65-4c57-ab19-7cb88fceee88",
      "cell_type": "code",
      "source": "# This a simple arithmetic expression to mutiply then add integers\n(3*4)+5",
      "metadata": {
        "trusted": true
      },
      "outputs": [
        {
          "execution_count": 8,
          "output_type": "execute_result",
          "data": {
            "text/plain": "17"
          },
          "metadata": {}
        }
      ],
      "execution_count": 8
    },
    {
      "id": "3f0f60b1-234f-41d1-a261-480d23b1aa07",
      "cell_type": "code",
      "source": "# This will convert 200 minutes to hours by diving by 60\n200/60",
      "metadata": {
        "trusted": true
      },
      "outputs": [
        {
          "execution_count": 9,
          "output_type": "execute_result",
          "data": {
            "text/plain": "3.3333333333333335"
          },
          "metadata": {}
        }
      ],
      "execution_count": 9
    },
    {
      "id": "467583a8-9c6b-4515-834f-28c5dc8687b3",
      "cell_type": "markdown",
      "source": "## Author\nBenjamin Abancini",
      "metadata": {}
    }
  ]
}